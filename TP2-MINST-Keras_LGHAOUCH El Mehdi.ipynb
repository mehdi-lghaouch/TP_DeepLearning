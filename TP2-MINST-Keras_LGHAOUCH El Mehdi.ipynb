{
  "nbformat": 4,
  "nbformat_minor": 0,
  "metadata": {
    "colab": {
      "provenance": [],
      "collapsed_sections": []
    },
    "kernelspec": {
      "name": "python3",
      "display_name": "Python 3"
    },
    "language_info": {
      "name": "python"
    }
  },
  "cells": [
    {
      "cell_type": "code",
      "execution_count": 1,
      "metadata": {
        "id": "bDi-6RlKWhwx"
      },
      "outputs": [],
      "source": [
        "import numpy as np                   # advanced math library\n",
        "import matplotlib.pyplot as plt      # MATLAB like plotting routines\n",
        "import random                        # for generating random numbers\n",
        "\n",
        "from keras.datasets import mnist     # MNIST dataset is included in Keras\n",
        "from keras.models import Sequential  # Model type to be used\n",
        "\n",
        "from keras.layers.core import Dense, Dropout, Activation # Types of layers to be used in our model\n",
        "from keras.utils import np_utils "
      ]
    },
    {
      "cell_type": "code",
      "source": [
        "# The MNIST data is split between 60,000 28 x 28 pixel training images and 10,000 28 x 28 pixel images\n",
        "(X_train, y_train), (X_test, y_test) = mnist.load_data()\n",
        "\n",
        "print(\"X_train shape\", X_train.shape)\n",
        "print(\"y_train shape\", y_train.shape)\n",
        "print(\"X_test shape\", X_test.shape)\n",
        "print(\"y_test shape\", y_test.shape)"
      ],
      "metadata": {
        "colab": {
          "base_uri": "https://localhost:8080/"
        },
        "id": "Y7_kx5pWUnU7",
        "outputId": "109474ea-a904-4f02-8968-5770c63cc91b"
      },
      "execution_count": 2,
      "outputs": [
        {
          "output_type": "stream",
          "name": "stdout",
          "text": [
            "Downloading data from https://storage.googleapis.com/tensorflow/tf-keras-datasets/mnist.npz\n",
            "11490434/11490434 [==============================] - 0s 0us/step\n",
            "X_train shape (60000, 28, 28)\n",
            "y_train shape (60000,)\n",
            "X_test shape (10000, 28, 28)\n",
            "y_test shape (10000,)\n"
          ]
        }
      ]
    },
    {
      "cell_type": "code",
      "source": [
        "plt.rcParams['figure.figsize'] = (9,9) # Make the figures a bit bigger\n",
        "\n",
        "for i in range(9):\n",
        "    plt.subplot(3,3,i+1)\n",
        "    num = random.randint(0, len(X_train))\n",
        "    plt.imshow(X_train[num], cmap='gray', interpolation='none')\n",
        "    plt.title(\"Class {}\".format(y_train[num]))\n",
        "    \n",
        "plt.tight_layout()"
      ],
      "metadata": {
        "colab": {
          "base_uri": "https://localhost:8080/",
          "height": 657
        },
        "id": "TocdjHbcUsfK",
        "outputId": "dd9b3208-eb6f-4f7c-f2ba-c6b1a152bcab"
      },
      "execution_count": 8,
      "outputs": [
        {
          "output_type": "display_data",
          "data": {
            "text/plain": [
              "<Figure size 648x648 with 9 Axes>"
            ],
            "image/png": "[encoded data removed]"
          },
          "metadata": {
            "needs_background": "light"
          }
        }
      ]
    },
    {
      "cell_type": "code",
      "source": [
        "# just a little function for pretty printing a matrix\n",
        "def matprint(mat, fmt=\"g\"):\n",
        "    col_maxes = [max([len((\"{:\"+fmt+\"}\").format(x)) for x in col]) for col in mat.T]\n",
        "    for x in mat:\n",
        "        for i, y in enumerate(x):\n",
        "            print((\"{:\"+str(col_maxes[i])+fmt+\"}\").format(y), end=\"  \")\n",
        "        print(\"\")\n",
        "\n",
        "# now print!        \n",
        "matprint(X_train[num])"
      ],
      "metadata": {
        "colab": {
          "base_uri": "https://localhost:8080/"
        },
        "id": "RWbCnhhxUztM",
        "outputId": "8156b387-e85b-4899-8869-80e724825e7a"
      },
      "execution_count": 9,
      "outputs": [
        {
          "output_type": "stream",
          "name": "stdout",
          "text": [
            "0  0  0  0  0  0  0  0   0    0    0    0    0    0    0    0    0    0    0    0    0  0  0  0  0  0  0  0  \n",
            "0  0  0  0  0  0  0  0   0    0    0    0    0    0    0    0    0    0    0    0    0  0  0  0  0  0  0  0  \n",
            "0  0  0  0  0  0  0  0   0    0    0    0    0    0    0    0    0    0    0    0    0  0  0  0  0  0  0  0  \n",
            "0  0  0  0  0  0  0  0   0    0    0    0    0    0    0    0    0    0    0    0    0  0  0  0  0  0  0  0  \n",
            "0  0  0  0  0  0  0  0   0    0    0    0    0    0    0    0    0    0    0    0    0  0  0  0  0  0  0  0  \n",
            "0  0  0  0  0  0  0  0  23  172  156   91   70   33  118  229  209    0    0    0    0  0  0  0  0  0  0  0  \n",
            "0  0  0  0  0  0  0  0  21  235  254  248  254  254  248  153   45    0    0    0    0  0  0  0  0  0  0  0  \n",
            "0  0  0  0  0  0  0  0   0  136  254   68   65   65   44    0    0    0    0    0    0  0  0  0  0  0  0  0  \n",
            "0  0  0  0  0  0  0  0   0   42  254   96    0    0    0    0    0    0    0    0    0  0  0  0  0  0  0  0  \n",
            "0  0  0  0  0  0  0  0   0    8  221  180    0    0    0    0    0    0    0    0    0  0  0  0  0  0  0  0  \n",
            "0  0  0  0  0  0  0  0   0    0  213  207    5    0    0    0    0    0    0    0    0  0  0  0  0  0  0  0  \n",
            "0  0  0  0  0  0  0  0   0    0  213  254   24    0    0    0    0    0    8   11    0  0  0  0  0  0  0  0  \n",
            "0  0  0  0  0  0  0  0   0    0  119  254   46    0    0    0   53  209  233  221   45  0  0  0  0  0  0  0  \n",
            "0  0  0  0  0  0  0  0   0    0   20  234  202    5   99  212  249  199  136  254  199  0  0  0  0  0  0  0  \n",
            "0  0  0  0  0  0  0  0   0    0    0  168  254  193  253  249   85    2   12  222  204  0  0  0  0  0  0  0  \n",
            "0  0  0  0  0  0  0  0   0    0    0   19  233  252  140    0    0    0   34  255  205  0  0  0  0  0  0  0  \n",
            "0  0  0  0  0  0  0  0   0    0    0    0   19   52    0    0    0    0   39  254  140  0  0  0  0  0  0  0  \n",
            "0  0  0  0  0  0  0  0   0    0    0    0    0    0    0    0    0    3  181  223   11  0  0  0  0  0  0  0  \n",
            "0  0  0  0  0  0  0  0   0    0    0    0    0    0    0    0    0   36  254  165    0  0  0  0  0  0  0  0  \n",
            "0  0  0  0  0  0  0  0   0    0    0    0    0    0    0    0    0  146  227   10    0  0  0  0  0  0  0  0  \n",
            "0  0  0  0  0  0  0  0   0    0    0    0    0    0    0    0   14  243  205    0    0  0  0  0  0  0  0  0  \n",
            "0  0  0  0  0  0  0  0   0    0    0    0    0    0    0    2  150  248   55    0    0  0  0  0  0  0  0  0  \n",
            "0  0  0  0  0  0  0  0   0    0    0  129   36    0    0   99  254  181    0    0    0  0  0  0  0  0  0  0  \n",
            "0  0  0  0  0  0  0  0   0    0    0  174  245  187  156  254  220   31    0    0    0  0  0  0  0  0  0  0  \n",
            "0  0  0  0  0  0  0  0   0    0    0    2   82  166  225  196   55    0    0    0    0  0  0  0  0  0  0  0  \n",
            "0  0  0  0  0  0  0  0   0    0    0    0    0    0    0    0    0    0    0    0    0  0  0  0  0  0  0  0  \n",
            "0  0  0  0  0  0  0  0   0    0    0    0    0    0    0    0    0    0    0    0    0  0  0  0  0  0  0  0  \n",
            "0  0  0  0  0  0  0  0   0    0    0    0    0    0    0    0    0    0    0    0    0  0  0  0  0  0  0  0  \n"
          ]
        }
      ]
    },
    {
      "cell_type": "code",
      "source": [
        "X_train = X_train.reshape(60000, 784) # reshape 60,000 28 x 28 matrices into 60,000 784-length vectors.\n",
        "X_test = X_test.reshape(10000, 784)   # reshape 10,000 28 x 28 matrices into 10,000 784-length vectors.\n",
        "\n",
        "X_train = X_train.astype('float32')   # change integers to 32-bit floating point numbers\n",
        "X_test = X_test.astype('float32')\n",
        "\n",
        "X_train /= 255                        # normalize each value for each pixel for the entire vector for each input\n",
        "X_test /= 255\n",
        "\n",
        "print(\"Training matrix shape\", X_train.shape)\n",
        "print(\"Testing matrix shape\", X_test.shape)"
      ],
      "metadata": {
        "colab": {
          "base_uri": "https://localhost:8080/"
        },
        "id": "SveuZ74lU2Hq",
        "outputId": "8ad365bd-32bb-45fd-c3ce-afa65401a85f"
      },
      "execution_count": 10,
      "outputs": [
        {
          "output_type": "stream",
          "name": "stdout",
          "text": [
            "Training matrix shape (60000, 784)\n",
            "Testing matrix shape (10000, 784)\n"
          ]
        }
      ]
    },
    {
      "cell_type": "code",
      "source": [
        "nb_classes = 10 # number of unique digits\n",
        "\n",
        "Y_train = np_utils.to_categorical(y_train, nb_classes)\n",
        "Y_test = np_utils.to_categorical(y_test, nb_classes)"
      ],
      "metadata": {
        "id": "gfDKa4OOVZc6"
      },
      "execution_count": 11,
      "outputs": []
    },
    {
      "cell_type": "code",
      "source": [
        "# The Sequential model is a linear stack of layers and is very common.\n",
        "\n",
        "model = Sequential()"
      ],
      "metadata": {
        "id": "YYmyzHaDVeJX"
      },
      "execution_count": 12,
      "outputs": []
    },
    {
      "cell_type": "code",
      "source": [
        "# The first hidden layer is a set of 512 nodes (artificial neurons).\n",
        "# Each node will receive an element from each input vector and apply some weight and bias to it.\n",
        "\n",
        "model.add(Dense(512, input_shape=(784,))) #(784,) is not a typo -- that represents a 784 length vector!"
      ],
      "metadata": {
        "id": "Y0UqaJ__Ve-n"
      },
      "execution_count": 13,
      "outputs": []
    },
    {
      "cell_type": "code",
      "source": [
        "# An \"activation\" is a non-linear function applied to the output of the layer above.\n",
        "# It checks the new value of the node, and decides whether that artifical neuron has fired.\n",
        "# The Rectified Linear Unit (ReLU) converts all negative inputs to nodes in the next layer to be zero.\n",
        "# Those inputs are then not considered to be fired.\n",
        "# Positive values of a node are unchanged.\n",
        "\n",
        "model.add(Activation('relu'))"
      ],
      "metadata": {
        "id": "a3qlxfg2VhKJ"
      },
      "execution_count": 14,
      "outputs": []
    },
    {
      "cell_type": "code",
      "source": [
        "# Dropout zeroes a selection of random outputs (i.e., disables their activation)\n",
        "# Dropout helps protect the model from memorizing or \"overfitting\" the training data.\n",
        "model.add(Dropout(0.2))"
      ],
      "metadata": {
        "id": "vyro7MLAVkC6"
      },
      "execution_count": 15,
      "outputs": []
    },
    {
      "cell_type": "code",
      "source": [
        "# The second hidden layer appears identical to our first layer.\n",
        "# However, instead of each of the 512-node receiving 784-inputs from the input image data,\n",
        "# they receive 512 inputs from the output of the first 512-node layer.\n",
        "\n",
        "model.add(Dense(512))\n",
        "model.add(Activation('relu'))\n",
        "model.add(Dropout(0.2))"
      ],
      "metadata": {
        "id": "r8CS2CtbVmZ4"
      },
      "execution_count": 16,
      "outputs": []
    },
    {
      "cell_type": "code",
      "source": [
        "# The final layer of 10 neurons in fully-connected to the previous 512-node layer.\n",
        "# The final layer of a FCN should be equal to the number of desired classes (10 in this case).\n",
        "model.add(Dense(10))"
      ],
      "metadata": {
        "id": "QqbNQVp7VoyI"
      },
      "execution_count": 17,
      "outputs": []
    },
    {
      "cell_type": "code",
      "source": [
        "# The \"softmax\" activation represents a probability distribution over K different possible outcomes.\n",
        "# Its values are all non-negative and sum to 1.\n",
        "\n",
        "model.add(Activation('softmax'))"
      ],
      "metadata": {
        "id": "b2u2BmcDVrFR"
      },
      "execution_count": 18,
      "outputs": []
    },
    {
      "cell_type": "code",
      "source": [
        "# Summarize the built model\n",
        "\n",
        "model.summary()"
      ],
      "metadata": {
        "colab": {
          "base_uri": "https://localhost:8080/"
        },
        "id": "UHvmpFV_VtBI",
        "outputId": "8511ff95-5dc2-443d-9b0e-1b7b90d426c6"
      },
      "execution_count": 19,
      "outputs": [
        {
          "output_type": "stream",
          "name": "stdout",
          "text": [
            "Model: \"sequential\"\n",
            "_________________________________________________________________\n",
            " Layer (type)                Output Shape              Param #   \n",
            "=================================================================\n",
            " dense (Dense)               (None, 512)               401920    \n",
            "                                                                 \n",
            " activation (Activation)     (None, 512)               0         \n",
            "                                                                 \n",
            " dropout (Dropout)           (None, 512)               0         \n",
            "                                                                 \n",
            " dense_1 (Dense)             (None, 512)               262656    \n",
            "                                                                 \n",
            " activation_1 (Activation)   (None, 512)               0         \n",
            "                                                                 \n",
            " dropout_1 (Dropout)         (None, 512)               0         \n",
            "                                                                 \n",
            " dense_2 (Dense)             (None, 10)                5130      \n",
            "                                                                 \n",
            " activation_2 (Activation)   (None, 10)                0         \n",
            "                                                                 \n",
            "=================================================================\n",
            "Total params: 669,706\n",
            "Trainable params: 669,706\n",
            "Non-trainable params: 0\n",
            "_________________________________________________________________\n"
          ]
        }
      ]
    },
    {
      "cell_type": "code",
      "source": [
        "# Let's use the Adam optimizer for learning\n",
        "model.compile(loss='categorical_crossentropy', optimizer='adam', metrics=['accuracy'])"
      ],
      "metadata": {
        "id": "80Uqv6aEVu95"
      },
      "execution_count": 20,
      "outputs": []
    },
    {
      "cell_type": "code",
      "source": [
        "model.fit(X_train, Y_train,\n",
        "          batch_size=128, epochs=5,\n",
        "          verbose=1)"
      ],
      "metadata": {
        "colab": {
          "base_uri": "https://localhost:8080/"
        },
        "id": "4G896QUaVx-g",
        "outputId": "eb1333cf-01a7-4015-b03a-448dfddba4ef"
      },
      "execution_count": 21,
      "outputs": [
        {
          "metadata": {
            "tags": null
          },
          "name": "stdout",
          "output_type": "stream",
          "text": [
            "Epoch 1/5\n",
            "469/469 [==============================] - 10s 20ms/step - loss: 0.2472 - accuracy: 0.9262\n",
            "Epoch 2/5\n",
            "469/469 [==============================] - 14s 31ms/step - loss: 0.1017 - accuracy: 0.9686\n",
            "Epoch 3/5\n",
            "469/469 [==============================] - 8s 16ms/step - loss: 0.0700 - accuracy: 0.9781\n",
            "Epoch 4/5\n",
            "469/469 [==============================] - 8s 16ms/step - loss: 0.0574 - accuracy: 0.9820\n",
            "Epoch 5/5\n",
            "469/469 [==============================] - 8s 16ms/step - loss: 0.0467 - accuracy: 0.9845\n"
          ]
        },
        {
          "data": {
            "text/plain": [
              "<keras.callbacks.History at 0x7f58c635ba90>"
            ]
          },
          "execution_count": 21,
          "metadata": {},
          "output_type": "execute_result"
        }
      ]
    },
    {
      "cell_type": "code",
      "source": [
        "score = model.evaluate(X_test, Y_test)\n",
        "print('Test score:', score[0])\n",
        "print('Test accuracy:', score[1])"
      ],
      "metadata": {
        "colab": {
          "base_uri": "https://localhost:8080/"
        },
        "id": "XL1oxrWyV1Id",
        "outputId": "afd06cd0-e934-4f28-d978-ca6b648d6414"
      },
      "execution_count": 22,
      "outputs": [
        {
          "output_type": "stream",
          "name": "stdout",
          "text": [
            "313/313 [==============================] - 1s 4ms/step - loss: 0.0758 - accuracy: 0.9786\n",
            "Test score: 0.0758281871676445\n",
            "Test accuracy: 0.978600025177002\n"
          ]
        }
      ]
    }
  ]
}